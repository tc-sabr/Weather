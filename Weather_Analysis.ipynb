{
 "cells": [
  {
   "cell_type": "code",
   "execution_count": 6,
   "metadata": {},
   "outputs": [],
   "source": [
    "#dependencies\n",
    "import random\n",
    "import pandas as pd\n",
    "from citipy import citipy\n",
    "import matplotlib.pyplot as plt\n",
    "import openweathermapy.core as owm\n",
    "\n",
    "#import api key from config file\n",
    "from config import api_key\n"
   ]
  },
  {
   "cell_type": "code",
   "execution_count": 12,
   "metadata": {},
   "outputs": [],
   "source": [
    "#create random lat and long\n",
    "lat = []\n",
    "long = []\n",
    "\n",
    "for x in range(500):\n",
    "    lat.append(round(random.uniform(-90, 90), 2))\n",
    "    long.append(round(random.uniform(-180, 180), 2))"
   ]
  },
  {
   "cell_type": "code",
   "execution_count": null,
   "metadata": {},
   "outputs": [],
   "source": []
  }
 ],
 "metadata": {
  "kernelspec": {
   "display_name": "Python [conda env:PythonData]",
   "language": "python",
   "name": "conda-env-PythonData-py"
  },
  "language_info": {
   "codemirror_mode": {
    "name": "ipython",
    "version": 3
   },
   "file_extension": ".py",
   "mimetype": "text/x-python",
   "name": "python",
   "nbconvert_exporter": "python",
   "pygments_lexer": "ipython3",
   "version": "3.6.5"
  }
 },
 "nbformat": 4,
 "nbformat_minor": 2
}
